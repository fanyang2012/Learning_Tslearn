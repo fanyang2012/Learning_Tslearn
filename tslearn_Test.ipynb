{
  "nbformat": 4,
  "nbformat_minor": 0,
  "metadata": {
    "colab": {
      "name": "tslearn_Test.ipynb",
      "provenance": [],
      "collapsed_sections": [],
      "authorship_tag": "ABX9TyOCzKz5e9uThGRqhMRVu6xk",
      "include_colab_link": true
    },
    "kernelspec": {
      "name": "python3",
      "display_name": "Python 3"
    },
    "language_info": {
      "name": "python"
    }
  },
  "cells": [
    {
      "cell_type": "markdown",
      "metadata": {
        "id": "view-in-github",
        "colab_type": "text"
      },
      "source": [
        "<a href=\"https://colab.research.google.com/github/fanyang2012/Learning_Tslearn/blob/master/tslearn_Test.ipynb\" target=\"_parent\"><img src=\"https://colab.research.google.com/assets/colab-badge.svg\" alt=\"Open In Colab\"/></a>"
      ]
    },
    {
      "cell_type": "code",
      "metadata": {
        "colab": {
          "base_uri": "https://localhost:8080/"
        },
        "id": "QSiarkJqiW2q",
        "outputId": "7a2714ee-170f-410e-c857-6d4a307328b6"
      },
      "source": [
        "!pip install tslearn"
      ],
      "execution_count": 2,
      "outputs": [
        {
          "output_type": "stream",
          "text": [
            "Collecting tslearn\n",
            "\u001b[?25l  Downloading https://files.pythonhosted.org/packages/95/98/9a67e2869a8b1416eb6e6fd5e69c56f86869980403b18f30bdb5783ade9d/tslearn-0.5.0.5-cp37-cp37m-manylinux2010_x86_64.whl (790kB)\n",
            "\r\u001b[K     |▍                               | 10kB 16.3MB/s eta 0:00:01\r\u001b[K     |▉                               | 20kB 21.3MB/s eta 0:00:01\r\u001b[K     |█▎                              | 30kB 26.5MB/s eta 0:00:01\r\u001b[K     |█▋                              | 40kB 28.8MB/s eta 0:00:01\r\u001b[K     |██                              | 51kB 26.3MB/s eta 0:00:01\r\u001b[K     |██▌                             | 61kB 28.5MB/s eta 0:00:01\r\u001b[K     |███                             | 71kB 29.6MB/s eta 0:00:01\r\u001b[K     |███▎                            | 81kB 27.8MB/s eta 0:00:01\r\u001b[K     |███▊                            | 92kB 25.9MB/s eta 0:00:01\r\u001b[K     |████▏                           | 102kB 25.4MB/s eta 0:00:01\r\u001b[K     |████▋                           | 112kB 25.4MB/s eta 0:00:01\r\u001b[K     |█████                           | 122kB 25.4MB/s eta 0:00:01\r\u001b[K     |█████▍                          | 133kB 25.4MB/s eta 0:00:01\r\u001b[K     |█████▉                          | 143kB 25.4MB/s eta 0:00:01\r\u001b[K     |██████▏                         | 153kB 25.4MB/s eta 0:00:01\r\u001b[K     |██████▋                         | 163kB 25.4MB/s eta 0:00:01\r\u001b[K     |███████                         | 174kB 25.4MB/s eta 0:00:01\r\u001b[K     |███████▌                        | 184kB 25.4MB/s eta 0:00:01\r\u001b[K     |███████▉                        | 194kB 25.4MB/s eta 0:00:01\r\u001b[K     |████████▎                       | 204kB 25.4MB/s eta 0:00:01\r\u001b[K     |████████▊                       | 215kB 25.4MB/s eta 0:00:01\r\u001b[K     |█████████▏                      | 225kB 25.4MB/s eta 0:00:01\r\u001b[K     |█████████▌                      | 235kB 25.4MB/s eta 0:00:01\r\u001b[K     |██████████                      | 245kB 25.4MB/s eta 0:00:01\r\u001b[K     |██████████▍                     | 256kB 25.4MB/s eta 0:00:01\r\u001b[K     |██████████▊                     | 266kB 25.4MB/s eta 0:00:01\r\u001b[K     |███████████▏                    | 276kB 25.4MB/s eta 0:00:01\r\u001b[K     |███████████▋                    | 286kB 25.4MB/s eta 0:00:01\r\u001b[K     |████████████                    | 296kB 25.4MB/s eta 0:00:01\r\u001b[K     |████████████▍                   | 307kB 25.4MB/s eta 0:00:01\r\u001b[K     |████████████▉                   | 317kB 25.4MB/s eta 0:00:01\r\u001b[K     |█████████████▎                  | 327kB 25.4MB/s eta 0:00:01\r\u001b[K     |█████████████▊                  | 337kB 25.4MB/s eta 0:00:01\r\u001b[K     |██████████████                  | 348kB 25.4MB/s eta 0:00:01\r\u001b[K     |██████████████▌                 | 358kB 25.4MB/s eta 0:00:01\r\u001b[K     |███████████████                 | 368kB 25.4MB/s eta 0:00:01\r\u001b[K     |███████████████▍                | 378kB 25.4MB/s eta 0:00:01\r\u001b[K     |███████████████▊                | 389kB 25.4MB/s eta 0:00:01\r\u001b[K     |████████████████▏               | 399kB 25.4MB/s eta 0:00:01\r\u001b[K     |████████████████▋               | 409kB 25.4MB/s eta 0:00:01\r\u001b[K     |█████████████████               | 419kB 25.4MB/s eta 0:00:01\r\u001b[K     |█████████████████▍              | 430kB 25.4MB/s eta 0:00:01\r\u001b[K     |█████████████████▉              | 440kB 25.4MB/s eta 0:00:01\r\u001b[K     |██████████████████▎             | 450kB 25.4MB/s eta 0:00:01\r\u001b[K     |██████████████████▋             | 460kB 25.4MB/s eta 0:00:01\r\u001b[K     |███████████████████             | 471kB 25.4MB/s eta 0:00:01\r\u001b[K     |███████████████████▌            | 481kB 25.4MB/s eta 0:00:01\r\u001b[K     |████████████████████            | 491kB 25.4MB/s eta 0:00:01\r\u001b[K     |████████████████████▎           | 501kB 25.4MB/s eta 0:00:01\r\u001b[K     |████████████████████▊           | 512kB 25.4MB/s eta 0:00:01\r\u001b[K     |█████████████████████▏          | 522kB 25.4MB/s eta 0:00:01\r\u001b[K     |█████████████████████▌          | 532kB 25.4MB/s eta 0:00:01\r\u001b[K     |██████████████████████          | 542kB 25.4MB/s eta 0:00:01\r\u001b[K     |██████████████████████▍         | 552kB 25.4MB/s eta 0:00:01\r\u001b[K     |██████████████████████▉         | 563kB 25.4MB/s eta 0:00:01\r\u001b[K     |███████████████████████▏        | 573kB 25.4MB/s eta 0:00:01\r\u001b[K     |███████████████████████▋        | 583kB 25.4MB/s eta 0:00:01\r\u001b[K     |████████████████████████        | 593kB 25.4MB/s eta 0:00:01\r\u001b[K     |████████████████████████▌       | 604kB 25.4MB/s eta 0:00:01\r\u001b[K     |████████████████████████▉       | 614kB 25.4MB/s eta 0:00:01\r\u001b[K     |█████████████████████████▎      | 624kB 25.4MB/s eta 0:00:01\r\u001b[K     |█████████████████████████▊      | 634kB 25.4MB/s eta 0:00:01\r\u001b[K     |██████████████████████████▏     | 645kB 25.4MB/s eta 0:00:01\r\u001b[K     |██████████████████████████▌     | 655kB 25.4MB/s eta 0:00:01\r\u001b[K     |███████████████████████████     | 665kB 25.4MB/s eta 0:00:01\r\u001b[K     |███████████████████████████▍    | 675kB 25.4MB/s eta 0:00:01\r\u001b[K     |███████████████████████████▊    | 686kB 25.4MB/s eta 0:00:01\r\u001b[K     |████████████████████████████▏   | 696kB 25.4MB/s eta 0:00:01\r\u001b[K     |████████████████████████████▋   | 706kB 25.4MB/s eta 0:00:01\r\u001b[K     |█████████████████████████████   | 716kB 25.4MB/s eta 0:00:01\r\u001b[K     |█████████████████████████████▍  | 727kB 25.4MB/s eta 0:00:01\r\u001b[K     |█████████████████████████████▉  | 737kB 25.4MB/s eta 0:00:01\r\u001b[K     |██████████████████████████████▎ | 747kB 25.4MB/s eta 0:00:01\r\u001b[K     |██████████████████████████████▊ | 757kB 25.4MB/s eta 0:00:01\r\u001b[K     |███████████████████████████████ | 768kB 25.4MB/s eta 0:00:01\r\u001b[K     |███████████████████████████████▌| 778kB 25.4MB/s eta 0:00:01\r\u001b[K     |████████████████████████████████| 788kB 25.4MB/s eta 0:00:01\r\u001b[K     |████████████████████████████████| 798kB 25.4MB/s \n",
            "\u001b[?25hRequirement already satisfied: scipy in /usr/local/lib/python3.7/dist-packages (from tslearn) (1.4.1)\n",
            "Requirement already satisfied: scikit-learn in /usr/local/lib/python3.7/dist-packages (from tslearn) (0.22.2.post1)\n",
            "Requirement already satisfied: numpy in /usr/local/lib/python3.7/dist-packages (from tslearn) (1.19.5)\n",
            "Requirement already satisfied: numba in /usr/local/lib/python3.7/dist-packages (from tslearn) (0.51.2)\n",
            "Requirement already satisfied: Cython in /usr/local/lib/python3.7/dist-packages (from tslearn) (0.29.22)\n",
            "Requirement already satisfied: joblib in /usr/local/lib/python3.7/dist-packages (from tslearn) (1.0.1)\n",
            "Requirement already satisfied: setuptools in /usr/local/lib/python3.7/dist-packages (from numba->tslearn) (56.1.0)\n",
            "Requirement already satisfied: llvmlite<0.35,>=0.34.0.dev0 in /usr/local/lib/python3.7/dist-packages (from numba->tslearn) (0.34.0)\n",
            "Installing collected packages: tslearn\n",
            "Successfully installed tslearn-0.5.0.5\n"
          ],
          "name": "stdout"
        }
      ]
    },
    {
      "cell_type": "code",
      "metadata": {
        "colab": {
          "base_uri": "https://localhost:8080/"
        },
        "id": "oRIaxNKeNcgf",
        "outputId": "83793b71-7df2-471f-d85f-dda63a25bf17"
      },
      "source": [
        "import numpy as np\n",
        "import glob\n",
        "from tslearn.clustering import KShape\n",
        "from tslearn.preprocessing import TimeSeriesScalerMeanVariance\n",
        "import matplotlib.pyplot as plt\n",
        "from tslearn.generators import random_walks\n",
        "import tslearn.metrics as metrics"
      ],
      "execution_count": 3,
      "outputs": [
        {
          "output_type": "stream",
          "text": [
            "/usr/local/lib/python3.7/dist-packages/tslearn/clustering/kmeans.py:17: UserWarning: Scikit-learn <0.24 will be deprecated in a future release of tslearn\n",
            "  \"Scikit-learn <0.24 will be deprecated in a \"\n"
          ],
          "name": "stderr"
        }
      ]
    },
    {
      "cell_type": "code",
      "metadata": {
        "id": "ND4dXpcuNiEe"
      },
      "source": [
        "import numpy as np\n",
        "import pandas as pd\n",
        "from tslearn.clustering import KShape\n",
        "from tslearn.preprocessing import TimeSeriesScalerMeanVariance\n",
        "import matplotlib.pyplot as plt\n",
        "plt.figure(figsize=(8, 4))\n",
        "from tslearn.clustering import silhouette_score\n",
        "\n",
        "\n",
        "\"\"\"\n",
        "1.数据读取与预处理（序列填充，使每条序列等长）\n",
        "2.计算轮廓系数，求出轮廓系数最大时的聚类个数k\n",
        "3.使用最佳聚类个数，得到序列聚类标签\n",
        "4.可视化，绘制elbow线图辅助检验聚类个数是否合理，同时绘制不同序列的聚类效果图。\n",
        "\"\"\"\n",
        "\n",
        "class Plot_Cluster_Time_Series(object):\n",
        "    def __init__(self,data,seed):\n",
        "        self.data=data\n",
        "        self.seed=seed\n",
        "\n",
        "    def fill_na_ts(self):\n",
        "        data=self.data\n",
        "        df_store = data[['item_id']].drop_duplicates()\n",
        "        max_ds = str(data['date'].max())[:10].replace('-', '')\n",
        "        min_ds = str(data['date'].min())[:10].replace('-', '')\n",
        "        print('min time is : {},max time is : {}'.format(min_ds, max_ds))\n",
        "        time_index = pd.date_range(min_ds, max_ds, freq='D')\n",
        "        time_index = pd.DataFrame(time_index)\n",
        "        time_index.columns = ['ts_index']\n",
        "        time_index['value'] = 1\n",
        "        df_store['value'] = 1\n",
        "        store_time_index = pd.merge(time_index, df_store, how='left', on='value')\n",
        "        store_time_index.drop(columns='value', inplace=True)\n",
        "        data['date'] = pd.to_datetime(data['date'])\n",
        "        store_time_index['ts_index'] = pd.to_datetime(store_time_index['ts_index'])\n",
        "        store_time_index.rename(columns={'ts_index': 'date'}, inplace=True)\n",
        "        data_full = pd.merge(store_time_index, data, how='left', on=['date', 'item_id'])\n",
        "        data_full['qty'] = data_full['qty'].fillna(0)\n",
        "        data_full.fillna(0, inplace=True)\n",
        "        return data_full\n",
        "\n",
        "    def read_data(self):\n",
        "        \"\"\"\n",
        "        :return: norm dataset and time series id\n",
        "        \"\"\"\n",
        "        data = self.fill_na_ts()\n",
        "        multi_ts = data.sort_values(by=['item_id', 'date'], ascending=[1, 1])[['item_id', 'qty']]\n",
        "        int_numer=multi_ts.shape[0] // multi_ts['item_id'].nunique()\n",
        "        multi_ts=multi_ts.groupby('item_id').filter(lambda x: x['item_id'].count() ==int_numer)\n",
        "        data_array = np.array(multi_ts[['qty']]).reshape(multi_ts['item_id'].nunique(),multi_ts.shape[0] // multi_ts['item_id'].nunique())\n",
        "        ts_norm = TimeSeriesScalerMeanVariance(mu=0.0, std=1.0).fit_transform(data_array)\n",
        "        return ts_norm, multi_ts['item_id'].unique()\n",
        "\n",
        "    def plot_elbow(self,data):\n",
        "        \"\"\"\n",
        "        :param df:multi time series  type is np.array\n",
        "        :return: elbow plot\n",
        "        \"\"\"\n",
        "        distortions = []\n",
        "        for i in range(2, 7):\n",
        "            ks = KShape(n_clusters=i, n_init=5, verbose=True, random_state=self.seed)\n",
        "            ks.fit(data)\n",
        "            distortions.append(ks.inertia_)\n",
        "        plt.plot(range(2, 7), distortions, marker='o')\n",
        "        plt.xlabel('Number of clusters')\n",
        "        plt.ylabel('Distortion Line')\n",
        "        plt.show()\n",
        "\n",
        "\n",
        "    def shape_score(self,data,labels,metric='dtw'):\n",
        "        \"\"\"\n",
        "        :param df:\n",
        "        :param labels:\n",
        "        :param metric:\n",
        "        :return:\n",
        "        \"\"\"\n",
        "        score=silhouette_score(data,labels,metric)\n",
        "        return score\n",
        "\n",
        "    def cal_k_shape(self,data,num_cluster):\n",
        "        \"\"\"\n",
        "        use best of cluster\n",
        "        :param df: time series dataset\n",
        "        :param num_cluster:\n",
        "        :return:cluster label\n",
        "        \"\"\"\n",
        "        ks = KShape(n_clusters=num_cluster, n_init=5, verbose=True, random_state=self.seed)\n",
        "        y_pred = ks.fit_predict(data)\n",
        "        return y_pred\n",
        "\n",
        "    def plot_best_shape(self,data,num_cluster):\n",
        "        \"\"\"\n",
        "        time series cluster plot\n",
        "        :param df:\n",
        "        :param num_cluster:\n",
        "        :return:\n",
        "        \"\"\"\n",
        "        ks = KShape(n_clusters=num_cluster, n_init=5, verbose=True, random_state=self.seed)\n",
        "        y_pred = ks.fit_predict(data)\n",
        "        for yi in range(num_cluster):\n",
        "            for xx in data[y_pred == yi]:\n",
        "                plt.plot(xx.ravel(), \"k-\", alpha=.3)\n",
        "            plt.plot(ks.cluster_centers_[yi].ravel(), \"r-\")\n",
        "            plt.text(0.55, 0.85, 'Cluster %d' % (yi + 1),\n",
        "                     transform=plt.gca().transAxes)\n",
        "            plt.tight_layout()\n",
        "            plt.show()\n",
        "\n",
        "\n",
        "def main():\n",
        "    seed = 666\n",
        "    data = pd.read_csv('./sale_df.csv',parse_dates=['date'])\n",
        "    data = data[(data['date']>='2015-01-01')&(data['date']<'2015-02-01')]\n",
        "    \n",
        "    #有小伙伴反馈说给的数据量较大，自己运行起来较大\n",
        "    data=data[data['item_id'].isin(data['item_id'].unique()[:100])] #特意加一句，只取部分数据\n",
        "    data = data[['item_id', 'qty', 'date']]\n",
        "    print(data.head())\n",
        "    pcts=Plot_Cluster_Time_Series(data,seed)\n",
        "\n",
        "    input_df, multi_id = pcts.read_data()\n",
        "    k_shape, k_score = [], []\n",
        "    for i in range(2, 7):\n",
        "        shape_pred = pcts.cal_k_shape(input_df,i)\n",
        "        score = pcts.shape_score(input_df,shape_pred)\n",
        "        k_score.append(score)\n",
        "        k_shape.append(i)\n",
        "\n",
        "    dict_shape = dict(zip(k_shape, k_score))\n",
        "    best_shape = sorted(dict_shape.items(), key=lambda x: x[1], reverse=True)[0][0]\n",
        "    print('best_shape :',best_shape)\n",
        "    fin_label = pcts.cal_k_shape(input_df,best_shape)\n",
        "\n",
        "    fin_cluster = pd.DataFrame({\"id\": multi_id, \"cluster_label\": fin_label})\n",
        "    pcts.plot_best_shape(input_df,best_shape)\n",
        "    pcts.plot_elbow(input_df)\n",
        "    return fin_cluster\n",
        "\n",
        "if __name__ == '__main__':\n",
        "    fin_cluster = main()\n",
        "    #聚类结果输出到本地\n",
        "    fin_cluster.to_excel('k_shape_result.xlsx',index=False)"
      ],
      "execution_count": null,
      "outputs": []
    }
  ]
}